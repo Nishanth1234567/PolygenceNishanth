{
 "cells": [
  {
   "cell_type": "code",
   "execution_count": 140,
   "metadata": {},
   "outputs": [],
   "source": [
    "import pandas as pd\n",
    "import csv\n",
    "\n",
    "d=pd.read_csv(\"/Users/nishanth/Downloads/cross-era_chords-chordino/chords-chordino_orchestra_addon.csv\")\n",
    "df=pd.DataFrame(d)\n",
    "\n",
    "timeV=list(df[\"time\"])\n",
    "timeC=list()\n",
    "chordV=list(df[\"chords\"])\n",
    "chordC=list()\n",
    "pieceV=list(df[\"piece\"])\n",
    "pieceC=list()\n",
    "\n",
    "x=0.0\n",
    "w=0\n",
    "z=0\n",
    "a=0"
   ]
  },
  {
   "cell_type": "code",
   "execution_count": 141,
   "metadata": {},
   "outputs": [
    {
     "name": "stdout",
     "output_type": "stream",
     "text": [
      "0.0\n"
     ]
    }
   ],
   "source": [
    "for i in timeV:\n",
    "    if i==0:\n",
    "        x=0.0\n",
    "        timeC.append(x)\n",
    "        pieceC.append(pieceV[z])\n",
    "        chordC.append(chordV[w])\n",
    "    else:\n",
    "        while x<=i:\n",
    "            chordC.append(chordV[w])\n",
    "            timeC.append(x)\n",
    "            pieceC.append(pieceV[z])\n",
    "            x+=0.1\n",
    "    #print(z)\n",
    "    w+=1\n",
    "    z+=1\n",
    "            \n",
    "print(timeC[2733])"
   ]
  },
  {
   "cell_type": "code",
   "execution_count": 142,
   "metadata": {},
   "outputs": [
    {
     "name": "stdout",
     "output_type": "stream",
     "text": [
      "N\n"
     ]
    }
   ],
   "source": [
    "print(chordC[0])"
   ]
  },
  {
   "cell_type": "code",
   "execution_count": 143,
   "metadata": {},
   "outputs": [
    {
     "name": "stdout",
     "output_type": "stream",
     "text": [
      "orchestra_addon/CrossEra-1602_Bach_CPE_sinfonia_in_b_flat_major_wq._182_no._2.mp3\n"
     ]
    }
   ],
   "source": [
    "print(pieceC[2733])"
   ]
  },
  {
   "cell_type": "code",
   "execution_count": 144,
   "metadata": {},
   "outputs": [
    {
     "ename": "OSError",
     "evalue": "[Errno 28] No space left on device",
     "output_type": "error",
     "traceback": [
      "\u001b[0;31m---------------------------------------------------------------------------\u001b[0m",
      "\u001b[0;31mOSError\u001b[0m                                   Traceback (most recent call last)",
      "Cell \u001b[0;32mIn[144], line 7\u001b[0m\n\u001b[1;32m      5\u001b[0m \u001b[39m#print(len(chordC))\u001b[39;00m\n\u001b[1;32m      6\u001b[0m \u001b[39mwhile\u001b[39;00m a\u001b[39m<\u001b[39m\u001b[39mlen\u001b[39m(chordC):\n\u001b[0;32m----> 7\u001b[0m     writer\u001b[39m.\u001b[39;49mwriterow([pieceC[a], timeC[a], chordC[a]])\n",
      "\u001b[0;31mOSError\u001b[0m: [Errno 28] No space left on device"
     ]
    }
   ],
   "source": [
    "with open('NEW_chords-chordino_orchestra_addon.csv', 'w', newline='') as file:\n",
    "    writer = csv.writer(file)\n",
    "     \n",
    "    writer.writerow([\"piece\", \"time\", \"chords\"])\n",
    "    #print(len(chordC))\n",
    "    while a<len(chordC):\n",
    "        writer.writerow([pieceC[a], timeC[a], chordC[a]])\n",
    "        a+=1\n",
    "    \n",
    "    "
   ]
  }
 ],
 "metadata": {
  "kernelspec": {
   "display_name": "Python 3",
   "language": "python",
   "name": "python3"
  },
  "language_info": {
   "codemirror_mode": {
    "name": "ipython",
    "version": 3
   },
   "file_extension": ".py",
   "mimetype": "text/x-python",
   "name": "python",
   "nbconvert_exporter": "python",
   "pygments_lexer": "ipython3",
   "version": "3.9.6"
  },
  "orig_nbformat": 4
 },
 "nbformat": 4,
 "nbformat_minor": 2
}
